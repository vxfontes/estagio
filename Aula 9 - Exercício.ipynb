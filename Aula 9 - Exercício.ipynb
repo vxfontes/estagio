{
 "cells": [
  {
   "cell_type": "markdown",
   "metadata": {},
   "source": [
    "1) A sequencia de Fibonacci é caracterizada por um sequencia de números que começa com 0 e 1, e os próximos termos são os a soma dos dois termos imediatamente anteriores. Por exemplo:\n",
    "\n",
    "1º Termo = 0\n",
    "\n",
    "2º Termo = 1\n",
    "\n",
    "3° Termo = 0+1 = 1\n",
    "\n",
    "4º Termo = 1+1 = 2\n",
    "\n",
    "5º Termo = 1+2 = 3\n",
    "\n",
    "a) Calcule os 100 primeiros termos da sequência, colocando-os em uma lista.\n",
    "\n",
    "b) Qual o valor do 59º termo da sequência?\n",
    "\n",
    "c) Calcule a média aritmética dos 100 primeiros termos da sequencia de Fibonacci. (Lembrando que a média aritmética é dada pela soma de todos os termos dividida pelo número de termos)\n"
   ]
  },
  {
   "cell_type": "code",
   "execution_count": 1,
   "metadata": {},
   "outputs": [],
   "source": [
    "def fibonacci(n):\n",
    "    fib_sequence = [0, 1]\n",
    "    while len(fib_sequence) < n:\n",
    "        fib_sequence.append(fib_sequence[-1] + fib_sequence[-2])\n",
    "    return fib_sequence"
   ]
  },
  {
   "cell_type": "code",
   "execution_count": 3,
   "metadata": {},
   "outputs": [
    {
     "name": "stdout",
     "output_type": "stream",
     "text": [
      "[0, 1, 1, 2, 3, 5, 8, 13, 21, 34, 55, 89, 144, 233, 377, 610, 987, 1597, 2584, 4181, 6765, 10946, 17711, 28657, 46368, 75025, 121393, 196418, 317811, 514229, 832040, 1346269, 2178309, 3524578, 5702887, 9227465, 14930352, 24157817, 39088169, 63245986, 102334155, 165580141, 267914296, 433494437, 701408733, 1134903170, 1836311903, 2971215073, 4807526976, 7778742049, 12586269025, 20365011074, 32951280099, 53316291173, 86267571272, 139583862445, 225851433717, 365435296162, 591286729879, 956722026041, 1548008755920, 2504730781961, 4052739537881, 6557470319842, 10610209857723, 17167680177565, 27777890035288, 44945570212853, 72723460248141, 117669030460994, 190392490709135, 308061521170129, 498454011879264, 806515533049393, 1304969544928657, 2111485077978050, 3416454622906707, 5527939700884757, 8944394323791464, 14472334024676221, 23416728348467685, 37889062373143906, 61305790721611591, 99194853094755497, 160500643816367088, 259695496911122585, 420196140727489673, 679891637638612258, 1100087778366101931, 1779979416004714189, 2880067194370816120, 4660046610375530309, 7540113804746346429, 12200160415121876738, 19740274219868223167, 31940434634990099905, 51680708854858323072, 83621143489848422977, 135301852344706746049, 218922995834555169026]\n"
     ]
    }
   ],
   "source": [
    "# letra a\n",
    "fib_100 = fibonacci(100)\n",
    "print(fib_100)"
   ]
  },
  {
   "cell_type": "code",
   "execution_count": 4,
   "metadata": {},
   "outputs": [
    {
     "name": "stdout",
     "output_type": "stream",
     "text": [
      "591286729879\n"
     ]
    }
   ],
   "source": [
    "#letra b\n",
    "termo = fib_100[58]\n",
    "print(termo)"
   ]
  },
  {
   "cell_type": "code",
   "execution_count": 5,
   "metadata": {},
   "outputs": [
    {
     "name": "stdout",
     "output_type": "stream",
     "text": [
      "5.73147844013817e+18\n"
     ]
    }
   ],
   "source": [
    "# letra c\n",
    "media = sum(fib_100) / len(fib_100)\n",
    "print(media)"
   ]
  },
  {
   "cell_type": "markdown",
   "metadata": {},
   "source": [
    "2) Faça uma função que calcule a sequência de fibonacci até o n-ésimo termo, sendo n um argumento que será passado pra função. Faça essa função retornar uma lista com os termos calculados dentro."
   ]
  },
  {
   "cell_type": "code",
   "execution_count": null,
   "metadata": {},
   "outputs": [],
   "source": [
    "def fibonacci(n):\n",
    "    fib_sequence = [0, 1]\n",
    "    while len(fib_sequence) < n:\n",
    "        fib_sequence.append(fib_sequence[-1] + fib_sequence[-2])\n",
    "    return fib_sequence"
   ]
  },
  {
   "cell_type": "code",
   "execution_count": 8,
   "metadata": {},
   "outputs": [
    {
     "name": "stdout",
     "output_type": "stream",
     "text": [
      "[0, 1, 1, 2, 3, 5, 8, 13, 21, 34, 55, 89, 144, 233, 377, 610, 987, 1597, 2584, 4181, 6765, 10946, 17711, 28657, 46368, 75025, 121393, 196418, 317811, 514229, 832040, 1346269, 2178309, 3524578, 5702887, 9227465, 14930352, 24157817, 39088169, 63245986, 102334155, 165580141, 267914296, 433494437, 701408733, 1134903170, 1836311903, 2971215073, 4807526976, 7778742049, 12586269025, 20365011074, 32951280099, 53316291173, 86267571272, 139583862445, 225851433717, 365435296162, 591286729879]\n"
     ]
    }
   ],
   "source": [
    "print(fibonacci(59))"
   ]
  },
  {
   "cell_type": "markdown",
   "metadata": {},
   "source": [
    "3) Utilizando a função criada no exercício anterior, crie 2 arquivos de texto, um com o nome *10_termos.txt* que contenha os 10 primeiros termos da sequência de Fibonacci, um termo em cada linha, e outro arquivo *100_termos.txt* com os 100 primeiros termos da sequência."
   ]
  },
  {
   "cell_type": "code",
   "execution_count": 9,
   "metadata": {},
   "outputs": [],
   "source": [
    "def write_to_file(filename, sequence):\n",
    "    with open(filename, 'w') as f:\n",
    "        for item in sequence:\n",
    "            f.write(f\"{item}\\n\")\n",
    "\n",
    "fib_10 = fibonacci(10)\n",
    "fib_100 = fibonacci(100)\n",
    "\n",
    "write_to_file('10_termos.txt', fib_10)\n",
    "write_to_file('100_termos.txt', fib_100)"
   ]
  },
  {
   "cell_type": "markdown",
   "metadata": {},
   "source": [
    "4) Crie utilizando um pandas dataframe a seguinte tabela e salve essa tabela em um arquivo excel (tabela.xlsx):\n",
    "\n",
    "| nome | idade | cidade         | profissão |\n",
    "|------|-------|----------------|-----------|\n",
    "| joão | 22    | Porto Alegre   | professor |\n",
    "| ana  | 23    | São Paulo      | jornalista|\n",
    "| pedro| 24    | Rio de Janeiro | advogado  |\n",
    "| maria| 25    | Belo Horizonte | vendedor  |\n",
    "| josé | 26    | Porto Alegre   | engenheiro|"
   ]
  },
  {
   "cell_type": "code",
   "execution_count": 11,
   "metadata": {},
   "outputs": [
    {
     "data": {
      "text/html": [
       "<div>\n",
       "<style scoped>\n",
       "    .dataframe tbody tr th:only-of-type {\n",
       "        vertical-align: middle;\n",
       "    }\n",
       "\n",
       "    .dataframe tbody tr th {\n",
       "        vertical-align: top;\n",
       "    }\n",
       "\n",
       "    .dataframe thead th {\n",
       "        text-align: right;\n",
       "    }\n",
       "</style>\n",
       "<table border=\"1\" class=\"dataframe\">\n",
       "  <thead>\n",
       "    <tr style=\"text-align: right;\">\n",
       "      <th></th>\n",
       "      <th>nome</th>\n",
       "      <th>idade</th>\n",
       "      <th>cidade</th>\n",
       "      <th>profissão</th>\n",
       "    </tr>\n",
       "  </thead>\n",
       "  <tbody>\n",
       "    <tr>\n",
       "      <th>0</th>\n",
       "      <td>joão</td>\n",
       "      <td>22</td>\n",
       "      <td>Porto Alegre</td>\n",
       "      <td>professor</td>\n",
       "    </tr>\n",
       "    <tr>\n",
       "      <th>1</th>\n",
       "      <td>ana</td>\n",
       "      <td>23</td>\n",
       "      <td>São Paulo</td>\n",
       "      <td>jornalista</td>\n",
       "    </tr>\n",
       "    <tr>\n",
       "      <th>2</th>\n",
       "      <td>pedro</td>\n",
       "      <td>24</td>\n",
       "      <td>Rio de Janeiro</td>\n",
       "      <td>advogado</td>\n",
       "    </tr>\n",
       "    <tr>\n",
       "      <th>3</th>\n",
       "      <td>maria</td>\n",
       "      <td>25</td>\n",
       "      <td>Belo Horizonte</td>\n",
       "      <td>vendedor</td>\n",
       "    </tr>\n",
       "    <tr>\n",
       "      <th>4</th>\n",
       "      <td>josé</td>\n",
       "      <td>26</td>\n",
       "      <td>Porto Alegre</td>\n",
       "      <td>engenheiro</td>\n",
       "    </tr>\n",
       "  </tbody>\n",
       "</table>\n",
       "</div>"
      ],
      "text/plain": [
       "    nome  idade          cidade   profissão\n",
       "0   joão     22    Porto Alegre   professor\n",
       "1    ana     23       São Paulo  jornalista\n",
       "2  pedro     24  Rio de Janeiro    advogado\n",
       "3  maria     25  Belo Horizonte    vendedor\n",
       "4   josé     26    Porto Alegre  engenheiro"
      ]
     },
     "metadata": {},
     "output_type": "display_data"
    }
   ],
   "source": [
    "import pandas as pd\n",
    "\n",
    "data = {\n",
    "    'nome': ['joão', 'ana', 'pedro', 'maria', 'josé'],\n",
    "    'idade': [22, 23, 24, 25, 26],\n",
    "    'cidade': ['Porto Alegre', 'São Paulo', 'Rio de Janeiro', 'Belo Horizonte', 'Porto Alegre'],\n",
    "    'profissão': ['professor', 'jornalista', 'advogado', 'vendedor', 'engenheiro']\n",
    "}\n",
    "\n",
    "df = pd.DataFrame(data)\n",
    "\n",
    "display(df)"
   ]
  },
  {
   "cell_type": "code",
   "execution_count": 12,
   "metadata": {},
   "outputs": [],
   "source": [
    "df.to_excel('tabela.xlsx', index=False)"
   ]
  },
  {
   "cell_type": "markdown",
   "metadata": {},
   "source": [
    "5) O arquivo base_vendas.csv contém informações a cerca de vendas de produtos fictícios, as colunas do arquivo são as seguintes:\n",
    "\n",
    "**sku**: Identificador único para cada produto.\\\n",
    "**classe**: Categoria à qual o produto pertence (Móveis, Decoração, Tecnologia, etc...).\\\n",
    "**qtde_vendida**: Quantidade de vendas do produto no período de análise.\\\n",
    "**valor_unitario**: Preço unitário de cada produto.\n",
    "\n",
    "Carregue a base em um dataframe e responda as seguintes questões:\n",
    "\n",
    "a) Qual o tipo de cada coluna?\n",
    "\n",
    "b) Quantas classes de produtos existem na base e quais são elas?\n",
    "\n",
    "c) Considerando todos os produtos, qual o total de unidades vendidas?\n",
    "\n",
    "d) Qual o total de unidades vendidas por classe?\n",
    "\n",
    "e) Indique os sku's dos 10 produtos mais vendidos e menos vendidos.\n",
    "\n",
    "f) Qual a média da quantidade de unidades vendidas?\n",
    "\n",
    "g) Qual a média da quantidade de unidades vendidas por classe?\n",
    "\n",
    "h) Crie uma coluna indicando a receita total de cada produto.\n",
    "\n",
    "i) Qual a receita total no período analisado?\n",
    "\n",
    "j) Considerando os 10 produtos mais rentáveis, quantos por cento da receita total eles representam?\n",
    "\n",
    "k) Quantos dos produtos mais rentáveis somam 50% da receita total?"
   ]
  },
  {
   "cell_type": "code",
   "execution_count": 14,
   "metadata": {},
   "outputs": [
    {
     "data": {
      "text/html": [
       "<div>\n",
       "<style scoped>\n",
       "    .dataframe tbody tr th:only-of-type {\n",
       "        vertical-align: middle;\n",
       "    }\n",
       "\n",
       "    .dataframe tbody tr th {\n",
       "        vertical-align: top;\n",
       "    }\n",
       "\n",
       "    .dataframe thead th {\n",
       "        text-align: right;\n",
       "    }\n",
       "</style>\n",
       "<table border=\"1\" class=\"dataframe\">\n",
       "  <thead>\n",
       "    <tr style=\"text-align: right;\">\n",
       "      <th></th>\n",
       "      <th>sku</th>\n",
       "      <th>classe</th>\n",
       "      <th>qtde_vendida</th>\n",
       "      <th>valor_unitario</th>\n",
       "    </tr>\n",
       "  </thead>\n",
       "  <tbody>\n",
       "    <tr>\n",
       "      <th>0</th>\n",
       "      <td>3271</td>\n",
       "      <td>automotivo</td>\n",
       "      <td>2935</td>\n",
       "      <td>2931.49</td>\n",
       "    </tr>\n",
       "    <tr>\n",
       "      <th>1</th>\n",
       "      <td>2336</td>\n",
       "      <td>decoracao</td>\n",
       "      <td>162</td>\n",
       "      <td>1830.73</td>\n",
       "    </tr>\n",
       "    <tr>\n",
       "      <th>2</th>\n",
       "      <td>6751</td>\n",
       "      <td>tecnologia</td>\n",
       "      <td>3055</td>\n",
       "      <td>1534.94</td>\n",
       "    </tr>\n",
       "    <tr>\n",
       "      <th>3</th>\n",
       "      <td>5843</td>\n",
       "      <td>eletro</td>\n",
       "      <td>1998</td>\n",
       "      <td>1759.78</td>\n",
       "    </tr>\n",
       "    <tr>\n",
       "      <th>4</th>\n",
       "      <td>3638</td>\n",
       "      <td>contrucao</td>\n",
       "      <td>495</td>\n",
       "      <td>1605.75</td>\n",
       "    </tr>\n",
       "  </tbody>\n",
       "</table>\n",
       "</div>"
      ],
      "text/plain": [
       "    sku      classe  qtde_vendida  valor_unitario\n",
       "0  3271  automotivo          2935         2931.49\n",
       "1  2336   decoracao           162         1830.73\n",
       "2  6751  tecnologia          3055         1534.94\n",
       "3  5843      eletro          1998         1759.78\n",
       "4  3638   contrucao           495         1605.75"
      ]
     },
     "metadata": {},
     "output_type": "display_data"
    }
   ],
   "source": [
    "import pandas as pd\n",
    "\n",
    "df = pd.read_csv('base_vendas.csv', encoding='latin-1', sep=';', decimal=',')\n",
    "\n",
    "display(df.head())"
   ]
  },
  {
   "cell_type": "code",
   "execution_count": 15,
   "metadata": {},
   "outputs": [
    {
     "data": {
      "text/plain": [
       "sku                 int64\n",
       "classe             object\n",
       "qtde_vendida        int64\n",
       "valor_unitario    float64\n",
       "dtype: object"
      ]
     },
     "execution_count": 15,
     "metadata": {},
     "output_type": "execute_result"
    }
   ],
   "source": [
    "# letra a\n",
    "df.dtypes"
   ]
  },
  {
   "cell_type": "code",
   "execution_count": 17,
   "metadata": {},
   "outputs": [
    {
     "name": "stdout",
     "output_type": "stream",
     "text": [
      "Existem 8 classes de produtos na base: ['automotivo' 'decoracao' 'tecnologia' 'eletro' 'contrucao' 'moveis'\n",
      " 'alimentacao' 'informatica']\n"
     ]
    }
   ],
   "source": [
    "# letra b\n",
    "classes = df['classe'].unique() # unindo unicas\n",
    "\n",
    "print(f'Existem {len(classes)} classes de produtos na base: {classes}')\n"
   ]
  },
  {
   "cell_type": "code",
   "execution_count": 20,
   "metadata": {},
   "outputs": [
    {
     "name": "stdout",
     "output_type": "stream",
     "text": [
      "O total de unidades vendidas é: 1851621\n"
     ]
    }
   ],
   "source": [
    "# letra c\n",
    "total = df['qtde_vendida'].sum()\n",
    "\n",
    "print(f'O total de unidades vendidas é: {total}')"
   ]
  },
  {
   "cell_type": "code",
   "execution_count": 22,
   "metadata": {},
   "outputs": [
    {
     "name": "stdout",
     "output_type": "stream",
     "text": [
      "classe\n",
      "alimentacao    260833\n",
      "automotivo     189967\n",
      "contrucao      212462\n",
      "decoracao      263716\n",
      "eletro         223972\n",
      "informatica    236815\n",
      "moveis         246129\n",
      "tecnologia     217727\n",
      "Name: qtde_vendida, dtype: int64\n"
     ]
    }
   ],
   "source": [
    "# letra d\n",
    "totalClasse = df.groupby('classe')['qtde_vendida'].sum()\n",
    "\n",
    "print(totalClasse)\n"
   ]
  },
  {
   "cell_type": "code",
   "execution_count": 24,
   "metadata": {},
   "outputs": [
    {
     "name": "stdout",
     "output_type": "stream",
     "text": [
      "Os SKU's dos 10 produtos mais vendidos são:\n",
      "sku\n",
      "6800    6924\n",
      "6006    6601\n",
      "5625    6504\n",
      "8006    6493\n",
      "7140    6350\n",
      "8265    5998\n",
      "3765    5874\n",
      "8832    5847\n",
      "1063    5846\n",
      "4706    5756\n",
      "Name: qtde_vendida, dtype: int64\n",
      "\n",
      "Os SKU's dos 10 produtos menos vendidos são:\n",
      "sku\n",
      "3604     4\n",
      "6057     6\n",
      "2306    11\n",
      "8658    17\n",
      "8035    22\n",
      "2636    24\n",
      "3811    31\n",
      "4864    34\n",
      "8487    38\n",
      "2910    40\n",
      "Name: qtde_vendida, dtype: int64\n"
     ]
    }
   ],
   "source": [
    "# letra e\n",
    "top10Mais = df.groupby('sku')['qtde_vendida'].sum().nlargest(10)\n",
    "\n",
    "top10Menos = df.groupby('sku')['qtde_vendida'].sum().nsmallest(10)\n",
    "\n",
    "print('Os SKU\\'s dos 10 produtos mais vendidos são:')\n",
    "print(top10Mais)\n",
    "print('\\nOs SKU\\'s dos 10 produtos menos vendidos são:')\n",
    "print(top10Menos)\n"
   ]
  },
  {
   "cell_type": "code",
   "execution_count": 25,
   "metadata": {},
   "outputs": [
    {
     "name": "stdout",
     "output_type": "stream",
     "text": [
      "A média é 1976.1163287086447\n"
     ]
    }
   ],
   "source": [
    "# letra f\n",
    "media = df['qtde_vendida'].sum()/(len(df))\n",
    "print(f\"A média é {media}\")"
   ]
  },
  {
   "cell_type": "code",
   "execution_count": 28,
   "metadata": {},
   "outputs": [
    {
     "name": "stdout",
     "output_type": "stream",
     "text": [
      "classe\n",
      "alimentacao    2103.491935\n",
      "automotivo     1978.822917\n",
      "contrucao      1914.072072\n",
      "decoracao      2013.099237\n",
      "eletro         1722.861538\n",
      "informatica    2041.508621\n",
      "moveis         1969.032000\n",
      "tecnologia     2093.528846\n",
      "Name: qtde_vendida, dtype: float64\n"
     ]
    }
   ],
   "source": [
    "# letra g\n",
    "mediaClasse = df.groupby('classe')['qtde_vendida'].mean()\n",
    "print(mediaClasse)"
   ]
  },
  {
   "cell_type": "code",
   "execution_count": 29,
   "metadata": {},
   "outputs": [
    {
     "data": {
      "text/html": [
       "<div>\n",
       "<style scoped>\n",
       "    .dataframe tbody tr th:only-of-type {\n",
       "        vertical-align: middle;\n",
       "    }\n",
       "\n",
       "    .dataframe tbody tr th {\n",
       "        vertical-align: top;\n",
       "    }\n",
       "\n",
       "    .dataframe thead th {\n",
       "        text-align: right;\n",
       "    }\n",
       "</style>\n",
       "<table border=\"1\" class=\"dataframe\">\n",
       "  <thead>\n",
       "    <tr style=\"text-align: right;\">\n",
       "      <th></th>\n",
       "      <th>sku</th>\n",
       "      <th>classe</th>\n",
       "      <th>qtde_vendida</th>\n",
       "      <th>valor_unitario</th>\n",
       "      <th>receita</th>\n",
       "    </tr>\n",
       "  </thead>\n",
       "  <tbody>\n",
       "    <tr>\n",
       "      <th>0</th>\n",
       "      <td>3271</td>\n",
       "      <td>automotivo</td>\n",
       "      <td>2935</td>\n",
       "      <td>2931.49</td>\n",
       "      <td>8603923.15</td>\n",
       "    </tr>\n",
       "    <tr>\n",
       "      <th>1</th>\n",
       "      <td>2336</td>\n",
       "      <td>decoracao</td>\n",
       "      <td>162</td>\n",
       "      <td>1830.73</td>\n",
       "      <td>296578.26</td>\n",
       "    </tr>\n",
       "    <tr>\n",
       "      <th>2</th>\n",
       "      <td>6751</td>\n",
       "      <td>tecnologia</td>\n",
       "      <td>3055</td>\n",
       "      <td>1534.94</td>\n",
       "      <td>4689241.70</td>\n",
       "    </tr>\n",
       "    <tr>\n",
       "      <th>3</th>\n",
       "      <td>5843</td>\n",
       "      <td>eletro</td>\n",
       "      <td>1998</td>\n",
       "      <td>1759.78</td>\n",
       "      <td>3516040.44</td>\n",
       "    </tr>\n",
       "    <tr>\n",
       "      <th>4</th>\n",
       "      <td>3638</td>\n",
       "      <td>contrucao</td>\n",
       "      <td>495</td>\n",
       "      <td>1605.75</td>\n",
       "      <td>794846.25</td>\n",
       "    </tr>\n",
       "  </tbody>\n",
       "</table>\n",
       "</div>"
      ],
      "text/plain": [
       "    sku      classe  qtde_vendida  valor_unitario     receita\n",
       "0  3271  automotivo          2935         2931.49  8603923.15\n",
       "1  2336   decoracao           162         1830.73   296578.26\n",
       "2  6751  tecnologia          3055         1534.94  4689241.70\n",
       "3  5843      eletro          1998         1759.78  3516040.44\n",
       "4  3638   contrucao           495         1605.75   794846.25"
      ]
     },
     "metadata": {},
     "output_type": "display_data"
    }
   ],
   "source": [
    "# letra h\n",
    "df['receita'] = df['qtde_vendida'] * df['valor_unitario']\n",
    "display(df.head())"
   ]
  },
  {
   "cell_type": "code",
   "execution_count": 31,
   "metadata": {},
   "outputs": [
    {
     "name": "stdout",
     "output_type": "stream",
     "text": [
      "Receita total: 1911969531.57\n"
     ]
    }
   ],
   "source": [
    "# letra i\n",
    "receitaTotal = df['receita'].sum()\n",
    "print(f\"Receita total: {receitaTotal}\")"
   ]
  },
  {
   "cell_type": "code",
   "execution_count": 32,
   "metadata": {},
   "outputs": [
    {
     "name": "stdout",
     "output_type": "stream",
     "text": [
      "Os 10 produtos mais rentáveis representam 6.881120438774273% da receita total.\n"
     ]
    }
   ],
   "source": [
    "# letra j\n",
    "top10Receita = df.nlargest(10, 'receita')\n",
    "soma = top10Receita['receita'].sum()\n",
    "soma_total = df['receita'].sum()\n",
    "porcentagem = (soma / soma_total) * 100\n",
    "\n",
    "print(f'Os 10 produtos mais rentáveis representam {porcentagem}% da receita total.')\n"
   ]
  },
  {
   "cell_type": "code",
   "execution_count": 34,
   "metadata": {},
   "outputs": [
    {
     "name": "stdout",
     "output_type": "stream",
     "text": [
      "162 dos produtos mais rentáveis somam 50% da receita total.\n"
     ]
    }
   ],
   "source": [
    "# letra k\n",
    "decrescente = df.sort_values('receita', ascending=False)\n",
    "\n",
    "# Calculando a receita total\n",
    "receita = df['receita'].sum()\n",
    "\n",
    "# Inicializando a soma acumulada e o contador de produtos\n",
    "soma = 0\n",
    "contador = 0\n",
    "\n",
    "# Percorrendo as linhas do DataFrame ordenado\n",
    "for _, row in decrescente.iterrows():\n",
    "    soma += row['receita']\n",
    "    contador += 1\n",
    "    if soma >= receita * 0.5:\n",
    "        break\n",
    "\n",
    "# Imprimindo o número de produtos que somam 50% da receita total\n",
    "print(f'{contador} dos produtos mais rentáveis somam 50% da receita total.')"
   ]
  }
 ],
 "metadata": {
  "kernelspec": {
   "display_name": "Python 3.10.9 ('base')",
   "language": "python",
   "name": "python3"
  },
  "language_info": {
   "codemirror_mode": {
    "name": "ipython",
    "version": 3
   },
   "file_extension": ".py",
   "mimetype": "text/x-python",
   "name": "python",
   "nbconvert_exporter": "python",
   "pygments_lexer": "ipython3",
   "version": "3.7.9"
  },
  "orig_nbformat": 4,
  "vscode": {
   "interpreter": {
    "hash": "c9ffaa070c9da79731a4c755488b998ea01cb6a4e5f9232e35c2664f3a5a2ac8"
   }
  }
 },
 "nbformat": 4,
 "nbformat_minor": 2
}
