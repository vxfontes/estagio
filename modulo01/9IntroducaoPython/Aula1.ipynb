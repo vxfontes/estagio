{
 "cells": [
  {
   "cell_type": "markdown",
   "id": "2f5bc954",
   "metadata": {},
   "source": [
    "## OPERAÇÕES BASICAS"
   ]
  },
  {
   "cell_type": "markdown",
   "id": "7db64088",
   "metadata": {},
   "source": [
    "#### SOMA"
   ]
  },
  {
   "cell_type": "code",
   "execution_count": 3,
   "id": "b02105a6",
   "metadata": {},
   "outputs": [
    {
     "data": {
      "text/plain": [
       "2"
      ]
     },
     "execution_count": 3,
     "metadata": {},
     "output_type": "execute_result"
    }
   ],
   "source": [
    "1 + 1"
   ]
  },
  {
   "cell_type": "markdown",
   "id": "9b7ce5a1",
   "metadata": {},
   "source": [
    "#### SUBTRAÇÃO"
   ]
  },
  {
   "cell_type": "code",
   "execution_count": 4,
   "id": "9413a760",
   "metadata": {},
   "outputs": [
    {
     "data": {
      "text/plain": [
       "4"
      ]
     },
     "execution_count": 4,
     "metadata": {},
     "output_type": "execute_result"
    }
   ],
   "source": [
    "5 - 1"
   ]
  },
  {
   "cell_type": "markdown",
   "id": "6413cd01",
   "metadata": {},
   "source": [
    "#### MULTIPLICAÇÃO"
   ]
  },
  {
   "cell_type": "code",
   "execution_count": 5,
   "id": "1f8dd623",
   "metadata": {},
   "outputs": [
    {
     "data": {
      "text/plain": [
       "4"
      ]
     },
     "execution_count": 5,
     "metadata": {},
     "output_type": "execute_result"
    }
   ],
   "source": [
    "2 * 2"
   ]
  },
  {
   "cell_type": "markdown",
   "id": "407d154e",
   "metadata": {},
   "source": [
    "#### DIVISAO"
   ]
  },
  {
   "cell_type": "code",
   "execution_count": 6,
   "id": "b0d5d531",
   "metadata": {},
   "outputs": [
    {
     "data": {
      "text/plain": [
       "0.5"
      ]
     },
     "execution_count": 6,
     "metadata": {},
     "output_type": "execute_result"
    }
   ],
   "source": [
    "2 / 4"
   ]
  },
  {
   "cell_type": "markdown",
   "id": "a1cbe255",
   "metadata": {},
   "source": [
    "#### EXPONENCIAÇÃO"
   ]
  },
  {
   "cell_type": "code",
   "execution_count": 7,
   "id": "b95e8689",
   "metadata": {},
   "outputs": [
    {
     "data": {
      "text/plain": [
       "16"
      ]
     },
     "execution_count": 7,
     "metadata": {},
     "output_type": "execute_result"
    }
   ],
   "source": [
    "2 ** 4"
   ]
  },
  {
   "cell_type": "markdown",
   "id": "02884827",
   "metadata": {},
   "source": [
    "#### MODULO (DIVISÃO)"
   ]
  },
  {
   "cell_type": "code",
   "execution_count": 8,
   "id": "5352fdae",
   "metadata": {},
   "outputs": [
    {
     "data": {
      "text/plain": [
       "1"
      ]
     },
     "execution_count": 8,
     "metadata": {},
     "output_type": "execute_result"
    }
   ],
   "source": [
    "3 % 2"
   ]
  },
  {
   "cell_type": "markdown",
   "id": "387a11ab",
   "metadata": {},
   "source": [
    "## VARIAVEIS "
   ]
  },
  {
   "cell_type": "code",
   "execution_count": 9,
   "id": "3b9d0ab1",
   "metadata": {},
   "outputs": [
    {
     "data": {
      "text/plain": [
       "1"
      ]
     },
     "execution_count": 9,
     "metadata": {},
     "output_type": "execute_result"
    }
   ],
   "source": [
    "x = 1\n",
    "\n",
    "x"
   ]
  },
  {
   "cell_type": "code",
   "execution_count": 10,
   "id": "9711debf",
   "metadata": {},
   "outputs": [
    {
     "data": {
      "text/plain": [
       "3"
      ]
     },
     "execution_count": 10,
     "metadata": {},
     "output_type": "execute_result"
    }
   ],
   "source": [
    "x = 1 + 2\n",
    "\n",
    "x"
   ]
  },
  {
   "cell_type": "code",
   "execution_count": 11,
   "id": "04ff2f37",
   "metadata": {},
   "outputs": [
    {
     "data": {
      "text/plain": [
       "3"
      ]
     },
     "execution_count": 11,
     "metadata": {},
     "output_type": "execute_result"
    }
   ],
   "source": [
    "y = x\n",
    "\n",
    "y"
   ]
  },
  {
   "cell_type": "code",
   "execution_count": 12,
   "id": "993a1b8c",
   "metadata": {},
   "outputs": [
    {
     "data": {
      "text/plain": [
       "6"
      ]
     },
     "execution_count": 12,
     "metadata": {},
     "output_type": "execute_result"
    }
   ],
   "source": [
    "y = x*2\n",
    "\n",
    "y"
   ]
  },
  {
   "cell_type": "markdown",
   "id": "204b0c24",
   "metadata": {},
   "source": [
    "## STRINGS (VARIAVEIS DE TEXTO)"
   ]
  },
  {
   "cell_type": "code",
   "execution_count": 13,
   "id": "1a7af68f",
   "metadata": {},
   "outputs": [
    {
     "data": {
      "text/plain": [
       "'Isso é uma string'"
      ]
     },
     "execution_count": 13,
     "metadata": {},
     "output_type": "execute_result"
    }
   ],
   "source": [
    "'Isso é uma string'"
   ]
  },
  {
   "cell_type": "code",
   "execution_count": 14,
   "id": "64fbed1c",
   "metadata": {},
   "outputs": [
    {
     "data": {
      "text/plain": [
       "'Isso também é uma string'"
      ]
     },
     "execution_count": 14,
     "metadata": {},
     "output_type": "execute_result"
    }
   ],
   "source": [
    "\"Isso também é uma string\""
   ]
  },
  {
   "cell_type": "code",
   "execution_count": 15,
   "id": "a96cabb7",
   "metadata": {},
   "outputs": [
    {
     "data": {
      "text/plain": [
       "\" Assim posso colocar ' dentro da string e \\nespaços também \""
      ]
     },
     "execution_count": 15,
     "metadata": {},
     "output_type": "execute_result"
    }
   ],
   "source": [
    "''' Assim posso colocar ' dentro da string e \n",
    "espaços também '''"
   ]
  },
  {
   "cell_type": "code",
   "execution_count": 16,
   "id": "0b94937b",
   "metadata": {},
   "outputs": [],
   "source": [
    "texto = 'teste'"
   ]
  },
  {
   "cell_type": "code",
   "execution_count": 17,
   "id": "a6973a92",
   "metadata": {},
   "outputs": [
    {
     "data": {
      "text/plain": [
       "'testeteste'"
      ]
     },
     "execution_count": 17,
     "metadata": {},
     "output_type": "execute_result"
    }
   ],
   "source": [
    "texto*2"
   ]
  },
  {
   "cell_type": "code",
   "execution_count": 18,
   "id": "84df447c",
   "metadata": {},
   "outputs": [
    {
     "data": {
      "text/plain": [
       "'teste ola'"
      ]
     },
     "execution_count": 18,
     "metadata": {},
     "output_type": "execute_result"
    }
   ],
   "source": [
    "texto + ' ola'"
   ]
  },
  {
   "cell_type": "markdown",
   "id": "a6aa1a6b",
   "metadata": {},
   "source": [
    "## PRINTAR CODIGO"
   ]
  },
  {
   "cell_type": "code",
   "execution_count": 19,
   "id": "3f970ccb",
   "metadata": {},
   "outputs": [
    {
     "name": "stdout",
     "output_type": "stream",
     "text": [
      "1\n",
      "2\n",
      "1\n",
      "teste\n",
      "A resposta é 1\n",
      "A resposta é 2\n",
      "2 e 2\n"
     ]
    }
   ],
   "source": [
    "x = 1\n",
    "y = 2\n",
    "\n",
    "\n",
    "print(x)\n",
    "print(y)\n",
    "\n",
    "\n",
    "print(x)\n",
    "\n",
    "print(texto)\n",
    "\n",
    "\n",
    "x = 1\n",
    "print(\"A resposta é {}\".format(x))\n",
    "x = 2\n",
    "print(\"A resposta é {}\".format(x))\n",
    "\n",
    "x = 4\n",
    "\n",
    "print(\"{x} e {x}\".format(x=y))\n"
   ]
  },
  {
   "cell_type": "markdown",
   "id": "6aa5ccde",
   "metadata": {},
   "source": [
    "## LISTAS (AGRUPAMENTOS DE VARIAVEIS)"
   ]
  },
  {
   "cell_type": "code",
   "execution_count": 20,
   "id": "4e4e2b34",
   "metadata": {},
   "outputs": [
    {
     "data": {
      "text/plain": [
       "[5, 4, 3, 2, 1]"
      ]
     },
     "execution_count": 20,
     "metadata": {},
     "output_type": "execute_result"
    }
   ],
   "source": [
    "x = [5,4,3,2,1]\n",
    "\n",
    "x"
   ]
  },
  {
   "cell_type": "code",
   "execution_count": 21,
   "id": "1f5da9e5",
   "metadata": {},
   "outputs": [
    {
     "data": {
      "text/plain": [
       "5"
      ]
     },
     "execution_count": 21,
     "metadata": {},
     "output_type": "execute_result"
    }
   ],
   "source": [
    "x[0]"
   ]
  },
  {
   "cell_type": "code",
   "execution_count": 22,
   "id": "d70e8266",
   "metadata": {},
   "outputs": [
    {
     "data": {
      "text/plain": [
       "4"
      ]
     },
     "execution_count": 22,
     "metadata": {},
     "output_type": "execute_result"
    }
   ],
   "source": [
    "x[1]"
   ]
  },
  {
   "cell_type": "code",
   "execution_count": 23,
   "id": "f57b38b9",
   "metadata": {},
   "outputs": [
    {
     "data": {
      "text/plain": [
       "[5, 4]"
      ]
     },
     "execution_count": 23,
     "metadata": {},
     "output_type": "execute_result"
    }
   ],
   "source": [
    "x[:2]"
   ]
  },
  {
   "cell_type": "code",
   "execution_count": 24,
   "id": "07a924a4",
   "metadata": {},
   "outputs": [
    {
     "data": {
      "text/plain": [
       "[4, 3, 2, 1]"
      ]
     },
     "execution_count": 24,
     "metadata": {},
     "output_type": "execute_result"
    }
   ],
   "source": [
    "x[1:]"
   ]
  },
  {
   "cell_type": "code",
   "execution_count": 25,
   "id": "0bcd843b",
   "metadata": {
    "scrolled": true
   },
   "outputs": [
    {
     "data": {
      "text/plain": [
       "[5, 4, 3]"
      ]
     },
     "execution_count": 25,
     "metadata": {},
     "output_type": "execute_result"
    }
   ],
   "source": [
    "x[0:3]"
   ]
  },
  {
   "cell_type": "code",
   "execution_count": 26,
   "id": "4c7c82b6",
   "metadata": {},
   "outputs": [
    {
     "data": {
      "text/plain": [
       "[1, 2, 3, 4, 5]"
      ]
     },
     "execution_count": 26,
     "metadata": {},
     "output_type": "execute_result"
    }
   ],
   "source": [
    "x[::-1]"
   ]
  },
  {
   "cell_type": "markdown",
   "id": "1c9993d3",
   "metadata": {},
   "source": [
    "#### STRINGS COMO LISTAS"
   ]
  },
  {
   "cell_type": "code",
   "execution_count": 27,
   "id": "14475af5",
   "metadata": {},
   "outputs": [],
   "source": [
    "string = 'Teste'"
   ]
  },
  {
   "cell_type": "code",
   "execution_count": 28,
   "id": "612a4352",
   "metadata": {},
   "outputs": [
    {
     "data": {
      "text/plain": [
       "'T'"
      ]
     },
     "execution_count": 28,
     "metadata": {},
     "output_type": "execute_result"
    }
   ],
   "source": [
    "string[0]"
   ]
  },
  {
   "cell_type": "code",
   "execution_count": 29,
   "id": "1b680723",
   "metadata": {},
   "outputs": [
    {
     "data": {
      "text/plain": [
       "'Tes'"
      ]
     },
     "execution_count": 29,
     "metadata": {},
     "output_type": "execute_result"
    }
   ],
   "source": [
    "string[:3]"
   ]
  },
  {
   "cell_type": "code",
   "execution_count": 30,
   "id": "e97f2b3f",
   "metadata": {},
   "outputs": [
    {
     "data": {
      "text/plain": [
       "'ste'"
      ]
     },
     "execution_count": 30,
     "metadata": {},
     "output_type": "execute_result"
    }
   ],
   "source": [
    "string[2:]"
   ]
  },
  {
   "cell_type": "code",
   "execution_count": 31,
   "id": "0f5fb02f",
   "metadata": {},
   "outputs": [
    {
     "data": {
      "text/plain": [
       "'etseT'"
      ]
     },
     "execution_count": 31,
     "metadata": {},
     "output_type": "execute_result"
    }
   ],
   "source": [
    "string[::-1]"
   ]
  },
  {
   "cell_type": "code",
   "execution_count": 32,
   "id": "8e95f9ba",
   "metadata": {},
   "outputs": [],
   "source": [
    "x = [1,2,3,4,5,6,['a','b','c']]"
   ]
  },
  {
   "cell_type": "code",
   "execution_count": 33,
   "id": "779fdf10",
   "metadata": {},
   "outputs": [
    {
     "data": {
      "text/plain": [
       "['a', 'b', 'c']"
      ]
     },
     "execution_count": 33,
     "metadata": {},
     "output_type": "execute_result"
    }
   ],
   "source": [
    "x[6]"
   ]
  },
  {
   "cell_type": "code",
   "execution_count": 34,
   "id": "4475492a",
   "metadata": {},
   "outputs": [
    {
     "data": {
      "text/plain": [
       "6"
      ]
     },
     "execution_count": 34,
     "metadata": {},
     "output_type": "execute_result"
    }
   ],
   "source": [
    "x[5]"
   ]
  },
  {
   "cell_type": "code",
   "execution_count": 35,
   "id": "f595929f",
   "metadata": {},
   "outputs": [
    {
     "data": {
      "text/plain": [
       "'b'"
      ]
     },
     "execution_count": 35,
     "metadata": {},
     "output_type": "execute_result"
    }
   ],
   "source": [
    "x[6][1]"
   ]
  },
  {
   "cell_type": "markdown",
   "id": "142d3889",
   "metadata": {},
   "source": [
    "## DICIONARIOS \n"
   ]
  },
  {
   "cell_type": "code",
   "execution_count": 36,
   "id": "e88a7a73",
   "metadata": {},
   "outputs": [],
   "source": [
    "x = {'maria':1,\n",
    "     'joao':3,\n",
    "     'pedro':5}"
   ]
  },
  {
   "cell_type": "code",
   "execution_count": 37,
   "id": "8b58962e",
   "metadata": {},
   "outputs": [
    {
     "data": {
      "text/plain": [
       "1"
      ]
     },
     "execution_count": 37,
     "metadata": {},
     "output_type": "execute_result"
    }
   ],
   "source": [
    "x['maria']"
   ]
  },
  {
   "cell_type": "code",
   "execution_count": 38,
   "id": "e751e74a",
   "metadata": {},
   "outputs": [
    {
     "data": {
      "text/plain": [
       "3"
      ]
     },
     "execution_count": 38,
     "metadata": {},
     "output_type": "execute_result"
    }
   ],
   "source": [
    "x['joao']"
   ]
  },
  {
   "cell_type": "markdown",
   "id": "f44cb2d2",
   "metadata": {},
   "source": [
    "## COMPARAÇÃO"
   ]
  },
  {
   "cell_type": "code",
   "execution_count": 39,
   "id": "3fd086ea",
   "metadata": {},
   "outputs": [],
   "source": [
    "x , y = 2, 3"
   ]
  },
  {
   "cell_type": "code",
   "execution_count": 40,
   "id": "eb0eee1a",
   "metadata": {},
   "outputs": [
    {
     "data": {
      "text/plain": [
       "True"
      ]
     },
     "execution_count": 40,
     "metadata": {},
     "output_type": "execute_result"
    }
   ],
   "source": [
    "x == 2"
   ]
  },
  {
   "cell_type": "code",
   "execution_count": 41,
   "id": "da9fd3f8",
   "metadata": {},
   "outputs": [
    {
     "data": {
      "text/plain": [
       "False"
      ]
     },
     "execution_count": 41,
     "metadata": {},
     "output_type": "execute_result"
    }
   ],
   "source": [
    "x == 3"
   ]
  },
  {
   "cell_type": "code",
   "execution_count": 42,
   "id": "c7df693f",
   "metadata": {},
   "outputs": [
    {
     "data": {
      "text/plain": [
       "True"
      ]
     },
     "execution_count": 42,
     "metadata": {},
     "output_type": "execute_result"
    }
   ],
   "source": [
    "y == 3"
   ]
  },
  {
   "cell_type": "code",
   "execution_count": 43,
   "id": "e53b3661",
   "metadata": {},
   "outputs": [
    {
     "name": "stdout",
     "output_type": "stream",
     "text": [
      "2 3\n"
     ]
    }
   ],
   "source": [
    "print(x, y)"
   ]
  },
  {
   "cell_type": "code",
   "execution_count": 44,
   "id": "6d8d4317",
   "metadata": {},
   "outputs": [
    {
     "name": "stdout",
     "output_type": "stream",
     "text": [
      "X não é maior que Y\n"
     ]
    }
   ],
   "source": [
    "if x > y:\n",
    "    print('X maior que Y')\n",
    "else:\n",
    "    print('X não é maior que Y')"
   ]
  },
  {
   "cell_type": "code",
   "execution_count": 45,
   "id": "7668d148",
   "metadata": {},
   "outputs": [
    {
     "name": "stdout",
     "output_type": "stream",
     "text": [
      "X é zero\n",
      "X maior que Y\n"
     ]
    }
   ],
   "source": [
    "x = 0\n",
    "y = -2\n",
    "\n",
    "\n",
    "if x == 0:\n",
    "    print('X é zero')\n",
    "\n",
    "if x > y:\n",
    "    print('X maior que Y')\n",
    "else:\n",
    "    print('X não é maior que Y')  "
   ]
  },
  {
   "cell_type": "code",
   "execution_count": 46,
   "id": "c5de8094",
   "metadata": {},
   "outputs": [],
   "source": [
    "x = 'BATATA'\n",
    "y = 'BATATA FRITA' "
   ]
  },
  {
   "cell_type": "code",
   "execution_count": 47,
   "id": "fa98631e",
   "metadata": {},
   "outputs": [
    {
     "name": "stdout",
     "output_type": "stream",
     "text": [
      "SAO DIFERENTES\n"
     ]
    }
   ],
   "source": [
    "if x==y:\n",
    "    print('SAO IGUAIS')\n",
    "else:\n",
    "    print('SAO DIFERENTES')"
   ]
  },
  {
   "cell_type": "code",
   "execution_count": 48,
   "id": "9637219e",
   "metadata": {},
   "outputs": [
    {
     "name": "stdout",
     "output_type": "stream",
     "text": [
      "DIFERENTE\n"
     ]
    }
   ],
   "source": [
    "if x != y:\n",
    "    print('DIFERENTE')\n",
    "else:\n",
    "    print('IGUAL')  "
   ]
  },
  {
   "cell_type": "code",
   "execution_count": 49,
   "id": "accaea43",
   "metadata": {},
   "outputs": [
    {
     "name": "stdout",
     "output_type": "stream",
     "text": [
      "CONTEM\n"
     ]
    }
   ],
   "source": [
    "if x in y:\n",
    "    print('CONTEM')\n",
    "else:\n",
    "    print('NAO CONTEM')   "
   ]
  },
  {
   "cell_type": "code",
   "execution_count": 50,
   "id": "9dfaeb32",
   "metadata": {},
   "outputs": [
    {
     "name": "stdout",
     "output_type": "stream",
     "text": [
      "NAO CONTEM\n"
     ]
    }
   ],
   "source": [
    "x = 'BATATA'\n",
    "y = 'HAMBURGUER' \n",
    "\n",
    "if x not in y:\n",
    "    print('NAO CONTEM')\n",
    "else:\n",
    "    print('CONTEM') "
   ]
  },
  {
   "cell_type": "code",
   "execution_count": 51,
   "id": "bf656810",
   "metadata": {},
   "outputs": [
    {
     "name": "stdout",
     "output_type": "stream",
     "text": [
      "OK\n"
     ]
    }
   ],
   "source": [
    "lista = [1,2,3]\n",
    "\n",
    "if 1 in lista:\n",
    "    print('OK')  "
   ]
  },
  {
   "cell_type": "code",
   "execution_count": 52,
   "id": "e8ddb852",
   "metadata": {},
   "outputs": [
    {
     "name": "stdout",
     "output_type": "stream",
     "text": [
      "CONTEM\n"
     ]
    }
   ],
   "source": [
    "x = 'BATATA'\n",
    "y = ['HAMBURGUER','BATATA','PIZZA']\n",
    "\n",
    "if x in y:\n",
    "    print('CONTEM')\n",
    "else:\n",
    "    print('NAO CONTEM')  "
   ]
  },
  {
   "cell_type": "markdown",
   "id": "afaea853",
   "metadata": {},
   "source": [
    "Exercícios Propostos:\n",
    "\n",
    "1) Crie uma variável chamada x , com valor de 10 e printe-a.\n",
    "\n",
    "2) Eleve a variável x ao cubo e printe o resultado.\n",
    "\n",
    "3) Some o primeiro e o terceiro valor da lista [1,2,3,4,5] e printe a resposta \n",
    "\n",
    "4) Crie uma variável com o valor '0123456789' (em formato de string), e printe:\n",
    "\n",
    "    a) Do 3º caractere em diante\n",
    "    \n",
    "    b) Do primeiro ao 5º caractere\n",
    "    \n",
    "    c) Do 3º ao 6º caractere\n",
    "    \n",
    "    d) O último caractere da string\n",
    "    \n",
    "    e) O penúltimo caractere da string\n",
    "    \n",
    "5) Crie um dicionário que contenha como chave os valores da Coluna 1, e como valores, os valores da Coluna 2.\n",
    "\n",
    "|Coluna 1| Coluna 2|\n",
    "|--------|---------|\n",
    "| a      |   1     |\n",
    "| b      |   2     |\n",
    "| c      |   3     |\n",
    "| d      |   4     |\n",
    "| e      |   5     |\n",
    "\n",
    "Após criado printe os valores das chaves \"b\" e \"e\"."
   ]
  }
 ],
 "metadata": {
  "kernelspec": {
   "display_name": "Python 3",
   "language": "python",
   "name": "python3"
  },
  "language_info": {
   "codemirror_mode": {
    "name": "ipython",
    "version": 3
   },
   "file_extension": ".py",
   "mimetype": "text/x-python",
   "name": "python",
   "nbconvert_exporter": "python",
   "pygments_lexer": "ipython3",
   "version": "3.7.9"
  }
 },
 "nbformat": 4,
 "nbformat_minor": 5
}
