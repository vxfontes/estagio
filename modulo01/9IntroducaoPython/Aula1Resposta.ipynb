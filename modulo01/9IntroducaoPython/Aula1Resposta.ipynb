{
 "cells": [
  {
   "cell_type": "code",
   "execution_count": null,
   "metadata": {},
   "outputs": [],
   "source": []
  },
  {
   "cell_type": "markdown",
   "metadata": {},
   "source": [
    "1) Crie uma variável chamada x , com valor de 10 e printe-a."
   ]
  },
  {
   "cell_type": "code",
   "execution_count": null,
   "metadata": {},
   "outputs": [
    {
     "name": "stdout",
     "output_type": "stream",
     "text": [
      "10\n"
     ]
    }
   ],
   "source": [
    "x = 10\n",
    "print(x)"
   ]
  },
  {
   "cell_type": "markdown",
   "metadata": {},
   "source": [
    "2) Eleve a variável x ao cubo e printe o resultado."
   ]
  },
  {
   "cell_type": "code",
   "execution_count": null,
   "metadata": {},
   "outputs": [
    {
     "name": "stdout",
     "output_type": "stream",
     "text": [
      "100\n"
     ]
    }
   ],
   "source": [
    "x = x**2\n",
    "print(x)"
   ]
  },
  {
   "cell_type": "markdown",
   "metadata": {},
   "source": [
    "3) Some o primeiro e o terceiro valor da lista [1,2,3,4,5] e printe a resposta "
   ]
  },
  {
   "cell_type": "code",
   "execution_count": null,
   "metadata": {},
   "outputs": [
    {
     "name": "stdout",
     "output_type": "stream",
     "text": [
      "[1, 2, 3, 4, 5]\n",
      "4\n"
     ]
    }
   ],
   "source": [
    "lista = [1,2,3,4,5]\n",
    "print(lista)\n",
    "\n",
    "soma = lista[0]+lista[2]\n",
    "print(soma)"
   ]
  },
  {
   "cell_type": "markdown",
   "metadata": {},
   "source": [
    "4) Crie uma variável com o valor '0123456789' (em formato de string), e printe:\n",
    "\n",
    "    a) Do 3º caractere em diante\n",
    "    \n",
    "    b) Do primeiro ao 5º caractere\n",
    "    \n",
    "    c) Do 3º ao 6º caractere\n",
    "    \n",
    "    d) O último caractere da string\n",
    "    \n",
    "    e) O penúltimo caractere da string"
   ]
  },
  {
   "cell_type": "code",
   "execution_count": null,
   "metadata": {},
   "outputs": [
    {
     "name": "stdout",
     "output_type": "stream",
     "text": [
      "23456789\n",
      "01234\n",
      "2345\n",
      "9\n",
      "8\n"
     ]
    }
   ],
   "source": [
    "formato = '0123456789'\n",
    "\n",
    "print(formato[2:]) ## 3 caractere em diante\n",
    "print(formato[0:5]) ## primeiro caractere ate o quinto\n",
    "print(formato[2:6]) ## terceiro caractere ate o sexto\n",
    "print(formato[-1]) ## ultimo caractere\n",
    "print(formato[-2]) ## penultimo caractere"
   ]
  },
  {
   "cell_type": "markdown",
   "metadata": {},
   "source": [
    "5) Crie um dicionário que contenha como chave os valores da Coluna 1, e como valores, os valores da Coluna 2.\n",
    "\n",
    "|Coluna 1| Coluna 2|\n",
    "|--------|---------|\n",
    "| a      |   1     |\n",
    "| b      |   2     |\n",
    "| c      |   3     |\n",
    "| d      |   4     |\n",
    "| e      |   5     |\n",
    "\n",
    "Após criado printe os valores das chaves \"b\" e \"e\"."
   ]
  },
  {
   "cell_type": "code",
   "execution_count": 6,
   "metadata": {},
   "outputs": [
    {
     "data": {
      "text/plain": [
       "{'a': 1, 'b': 2, 'c': 3, 'd': 4, 'e': 5}"
      ]
     },
     "metadata": {},
     "output_type": "display_data"
    },
    {
     "name": "stdout",
     "output_type": "stream",
     "text": [
      "imprimindo b:  2\n",
      "imprimindo e:  5\n"
     ]
    }
   ],
   "source": [
    "dict = {\n",
    "    'a': 1,\n",
    "    'b': 2,\n",
    "    'c': 3,\n",
    "    'd': 4,\n",
    "    'e': 5\n",
    "}\n",
    "\n",
    "display(dict)\n",
    "print('imprimindo b: ', dict['b'])\n",
    "print('imprimindo e: ', dict['e'])"
   ]
  }
 ],
 "metadata": {
  "kernelspec": {
   "display_name": "Python 3",
   "language": "python",
   "name": "python3"
  },
  "language_info": {
   "codemirror_mode": {
    "name": "ipython",
    "version": 3
   },
   "file_extension": ".py",
   "mimetype": "text/x-python",
   "name": "python",
   "nbconvert_exporter": "python",
   "pygments_lexer": "ipython3",
   "version": "3.7.9"
  },
  "orig_nbformat": 4
 },
 "nbformat": 4,
 "nbformat_minor": 2
}
